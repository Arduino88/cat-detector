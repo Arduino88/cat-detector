{
 "cells": [
  {
   "cell_type": "code",
   "execution_count": 1,
   "metadata": {},
   "outputs": [],
   "source": [
    "import cv2\n",
    "import time"
   ]
  },
  {
   "cell_type": "code",
   "execution_count": 2,
   "metadata": {},
   "outputs": [],
   "source": [
    "cam_port = 0\n",
    "cam = cv2.VideoCapture(cam_port) \n",
    "  \n",
    "# reading the input using the camera \n",
    "result, image = cam.read() \n",
    "  \n",
    "# If image will detected without any error,  \n",
    "# show result \n",
    "if result:\n",
    "    \n",
    "    \n",
    "    cv2.imwrite('image.jpg', image)\n",
    "    cv2.imshow(\"WINDOW\", image)\n",
    "    \n",
    "    cam.release()\n",
    "\n",
    "    time.sleep(10)\n",
    "    cv2.destroyAllWindows()\n",
    "\n",
    "else:\n",
    "    print(\"No image\")\n",
    "  "
   ]
  },
  {
   "cell_type": "code",
   "execution_count": 3,
   "metadata": {},
   "outputs": [],
   "source": [
    "cv2.destroyAllWindows()\n",
    "#turn off camera\n",
    "cam.release()"
   ]
  }
 ],
 "metadata": {
  "kernelspec": {
   "display_name": "Python (Pytorch-CUDA)",
   "language": "python",
   "name": "pytorch-cuda"
  },
  "language_info": {
   "codemirror_mode": {
    "name": "ipython",
    "version": 3
   },
   "file_extension": ".py",
   "mimetype": "text/x-python",
   "name": "python",
   "nbconvert_exporter": "python",
   "pygments_lexer": "ipython3",
   "version": "3.11.9"
  }
 },
 "nbformat": 4,
 "nbformat_minor": 2
}
